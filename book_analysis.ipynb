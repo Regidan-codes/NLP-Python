{
 "cells": [
  {
   "cell_type": "markdown",
   "id": "21cc326b-c413-4321-97b5-dad387bec8ef",
   "metadata": {},
   "source": [
    "# Load the book"
   ]
  },
  {
   "cell_type": "code",
   "execution_count": 4,
   "id": "cd47e5d4-5361-45d0-9226-1750e86ce618",
   "metadata": {},
   "outputs": [],
   "source": [
    "with open(\"miracle_in_the_andes.txt\", \"r\",encoding='utf-8') as file:\n",
    "    book = file.read()"
   ]
  },
  {
   "cell_type": "code",
   "execution_count": 6,
   "id": "68a88344-b91e-4c3c-a978-8a5e6b41d415",
   "metadata": {},
   "outputs": [
    {
     "data": {
      "text/plain": [
       "str"
      ]
     },
     "execution_count": 6,
     "metadata": {},
     "output_type": "execute_result"
    }
   ],
   "source": [
    "type(book)"
   ]
  },
  {
   "cell_type": "markdown",
   "id": "37cdec24-e32a-476b-9528-40090a4013a9",
   "metadata": {},
   "source": [
    "# How many chapters?"
   ]
  },
  {
   "cell_type": "markdown",
   "id": "ecffdeed-f3ba-4cc6-80e4-3c78bb50fa42",
   "metadata": {},
   "source": [
    "### Using string methods"
   ]
  },
  {
   "cell_type": "code",
   "execution_count": 9,
   "id": "cf38493d-7f21-41f8-9674-c0edea381f8f",
   "metadata": {},
   "outputs": [
    {
     "data": {
      "text/plain": [
       "11"
      ]
     },
     "execution_count": 9,
     "metadata": {},
     "output_type": "execute_result"
    }
   ],
   "source": [
    "book.count(\"Chapter\")"
   ]
  },
  {
   "cell_type": "code",
   "execution_count": 10,
   "id": "a0afd2a0-2981-4e07-a8e7-6b854e6aef23",
   "metadata": {},
   "outputs": [],
   "source": [
    "import re"
   ]
  },
  {
   "cell_type": "code",
   "execution_count": 13,
   "id": "22c2d2bc-77bb-4b81-853a-d33600276b81",
   "metadata": {},
   "outputs": [
    {
     "data": {
      "text/plain": [
       "10"
      ]
     },
     "execution_count": 13,
     "metadata": {},
     "output_type": "execute_result"
    }
   ],
   "source": [
    "pattern = re.compile(\"Chapter [0-9]+\")\n",
    "findings  = re.findall(pattern, book)\n",
    "len(findings)"
   ]
  },
  {
   "cell_type": "markdown",
   "id": "6c7d2b83-fab8-4204-b54b-c0a1f203b999",
   "metadata": {},
   "source": [
    "# Which are the sentences where 'love' was used"
   ]
  },
  {
   "cell_type": "code",
   "execution_count": 20,
   "id": "d5677435-446e-4503-9cb9-815a87845370",
   "metadata": {},
   "outputs": [
    {
     "data": {
      "text/plain": [
       "['As a young man, of course, I could not put these things into words, but I knew, and my teammates knew, that there was something special about the game, and under the guidance of the Christian Brothers we developed a passionate love for the sport that shaped our friendships and our lives.',\n",
       " 'Guido and I grew up together, playing soccer and sharing a love of motorcycles, cars, and auto racing.',\n",
       " 'Under the guidance of the Christian Brothers, both of us grew to love the game of rugby with a consuming passion.',\n",
       " 'That rowdiness came to an abrupt end for Guido in 1969, when he met and fell in love with the beautiful daughter of a Chilean diplomat.',\n",
       " 'I believe he had a great hunger for the love and comforts of a family that was happy and whole.',\n",
       " 'He shared, with my father and me, a love for cars and driving, and he loved going with us to auto races.',\n",
       " 'The house had a beautiful view of the sea, and this more than anything made my mother love it.',\n",
       " 'She was a true tower of strength, but her strength was always based in warmth and love and because of her love and protection I grew up believing the world was a safe, familiar place.',\n",
       " 'He had given us a life of comfort and privilege such as his own father never could have imagined, he had provided for us and protected us in the best way he could, and though he was not an emotionally expressive man, he always showed his love for us subtly, quietly, and in ways that were true to the man he was.',\n",
       " 'Out of love for his family he had arranged in his mind a future that would keep us all safe, happy, and always together.',\n",
       " 'Susy shared my mother’s love for the closeness of family, but she was no stay-at-home girl.',\n",
       " 'When she was sixteen she spent a year as an exchange student living with a family in Florida, an experience that taught her to love the U.',\n",
       " 'Take care of the people you love. The words inspired nothing in me but a black sense of loss.',\n",
       " 'As I lay beside her, the sweetness of my love for her, for my lost friends and my family, for the suddenly fragile notion of my own life and future, swelled in my heart with an ache so profound it sapped all my strength, and for a moment I thought I would pass out.',\n",
       " 'I pressed my cheek against hers so I could feel her warm breath on my face, and held her that way all night, gently, but very close, never letting go, embracing her as if I were embracing all the love and peace and joy I had ever known and would ever know; as if by holding on tight I could keep everything precious from slipping away.',\n",
       " 'I felt my love for my father tugging at me like a lifeline, drawing me toward those barren slopes.',\n",
       " 'In the days after Susy died, my love for my father was the only thing that kept me sane, and time after time I would calm myself by reaffirming the promise I had made at Susy’s grave: to return to him; to show him I had survived and to ease his suffering a little.',\n",
       " 'Thinking of my father this way always triggered in me a burst of love so radiant and urgent that it took my breath away.',\n",
       " 'I don’t pray to God for forgiveness or favors, I only pray to be closer to Him, and when I pray, I fill my heart with love. When I pray this way, I know that God is love.',\n",
       " 'When I feel that love, I remember that we don’t need angels or a heaven, because we are a part of God already.',\n",
       " 'Bobby, are you warm enough? Do you want me to rub your feet?” She worried constantly about the children she had left at home, but still she had the courage and love to mother these frightened boys who were so far from their families.',\n",
       " 'It was our job to follow His commandments, to take the sacraments, to love God and to love others as Jesus had taught us.',\n",
       " 'I would think of him and let my heart fill with love for him, and this love would be stronger than my suffering, or my fear.',\n",
       " 'After two weeks on the mountain, my love for my father had taken on the irresistible power of a biological drive.',\n",
       " 'All we can do is love God and love others and trust in God’s will.',\n",
       " 'I can feel His love, Nando.',\n",
       " 'There’s so much love, I want to cry.',\n",
       " 'Even if we are trapped here forever, we can love our families, and God, and each other as long as we live.',\n",
       " 'You will tell my family that I love them, won’t you? That’s all that matters to me now.',\n",
       " 'But he lived so many lifetimes, had so many adventures, and, macho, he made love to so many beautiful girls.',\n",
       " 'The shoes were magical for me because my mother had chosen them with such love for her grandson, and had handled them so tenderly on the plane.',\n",
       " 'My love for my father swelled in my heart, and I realized that, despite the hopelessness of my situation, the memory of him filled me with joy.',\n",
       " 'They could not crush my ability to love. I felt a moment of calmness and clarity, and in that clarity of mind I discovered a simple, astounding secret: Death has an opposite, but the opposite is not mere living.',\n",
       " 'The opposite of death is love. How had I missed that? How does anyone miss that? Love is our only weapon.',\n",
       " 'Only love can turn mere life into a miracle, and draw precious meaning from suffering and fear.',\n",
       " 'I would walk through the godforsaken country that separated me from my home with love and hope in my heart.',\n",
       " 'I’ve never been in love.”\\n\\n“Really?” he laughed.',\n",
       " 'But still, still, I longed for the very things I knew I would never have—the love of a wife, a family of my own, a reunion with my grandmother and older sister, and always the embrace of my father.',\n",
       " 'My ordeal had simplified my mind and whittled me down very close to the essence of what I was, and now I saw that this longing, this love and affection for the very idea of my life, was a deeper part of me than hopelessness or fear or pain or hunger.',\n",
       " 'In seconds she was in my arms, and my heart swelled with love as I held her.',\n",
       " 'There was so much I wanted to tell him, that I had thought of him every moment, that his love had been the guiding light that led me to safety.',\n",
       " 'The papers called our return “The Christmas Miracle,” and many people were regarding us as almost mystical figures: young boys who had been saved by the direct intercession of God, living proof of His love. News of our survival was making headlines around the globe, and public interest was intense.',\n",
       " 'Where should I begin? “I love it,” I said, finally.',\n",
       " 'I tried to be on my best behavior, but already I was madly in love, and it required all my effort to take my eyes off Veronique, and to remind myself there was anyone else in the room.',\n",
       " 'She stepped off the train with only a backpack and a small duffel, looking very beautiful, and I fell in love with her all over again.',\n",
       " 'Until then, I had thought I could never love anything as much as I loved my wife, but when I gazed into my baby’s face, I was struck senseless by my love for her.',\n",
       " 'I felt a sudden, staggering sense of gratitude for the rich joys of my life—I had been given so much love and happiness—and I realized that every grueling step I had taken through that godforsaken wilderness was a step toward the tiny, precious miracle I held in my arms.',\n",
       " 'We are bonded by our suffering and our losses, but also by a great sense of mutual respect and, of course, a deep, unquestioned love. I don’t know if my father has ever understood how important he was to me when I was lost.',\n",
       " 'Mostly, he saved me with his love. He was never an openly affectionate man, but I never doubted his love when I was a boy.',\n",
       " 'It was quiet love, but solid and deep and enduring.',\n",
       " 'When I was in the mountains, stranded in the shadows of death, that love was like a safety line anchored in the world of the living.',\n",
       " 'As long as I held on to that love, I was not lost, I was connected to my home and to my future, and in the end it was that strong cord of love that led me out of danger.',\n",
       " 'He saved me simply by being the father I love.\\n\\n\\nWHEN MY FELLOW survivors and I first returned from the mountains, our parents and teachers, worried that we’d been scarred by the horrors we’d faced, asked us to visit a therapist.',\n",
       " 'There was love, the love in my heart, and for one incredible moment, as I felt this love swell—love for my father, for my future, for the simple wonder of being alive—death lost its power.',\n",
       " 'Instead, I made every step a step toward love, and that saved me.',\n",
       " 'I have never stopped moving toward love. Life has blessed me with material success.',\n",
       " 'I love to travel.',\n",
       " 'I believe life should be enjoyed, but my experiences have taught me that without the love of my family and my friends, all the trappings of worldly success would ring hollow.',\n",
       " 'I also know that I would be a happy man if all those trappings were taken from me, as long as I am close to the people I love.\\n\\nI expect most people would like to think of themselves this way, but I know that if I had not suffered as I did, and had not been forced to stare death in the face, I would not treasure the simple, precious pleasures of my life as richly as I do.',\n",
       " 'I savor them and let each one become a miniature eternity, and by living these small moments of my life so fully, I defy the shadow of death that hovers over all of us, I reaffirm my love and gratitude for all the gifts I’ve been given, and I fill myself more and more deeply with life.',\n",
       " 'It seemed to reach me through my own feelings of love, and I have often thought that when we feel what we call love, we are really feeling our connection to this awesome presence.',\n",
       " 'Instead, I imagine love, an ocean of love, the very source of love, and I imagine myself merging with it.',\n",
       " 'I open myself to it, I try to direct that tide of love toward the people who are close to me, hoping to protect them and bind them to me forever and connect us all to whatever there is in the world that is eternal.',\n",
       " 'In the mountains, it was love that kept me connected to the world of the living.',\n",
       " 'I had no expertise to draw on, so I relied upon the trust I felt in my love for my father and my future, and that trust led me home.',\n",
       " 'Now I am convinced that if there is something divine in the universe, the only way I will find it is through the love I feel for my family and my friends, and through the simple wonder of being alive.',\n",
       " 'I don’t need any other wisdom or philosophy than this: My duty is to fill my time on earth with as much life as possible, to become a little more human every day, and to understand that we only become human when we love. I have tried to love my friends with a loyal and generous heart.']"
      ]
     },
     "execution_count": 20,
     "metadata": {},
     "output_type": "execute_result"
    }
   ],
   "source": [
    "pattern_2 = re.compile(\"[A-Z]{1}[^.]* love[^a-zA-z]+[^.]*.\")\n",
    "findings_2 = re.findall(pattern_2, book)\n",
    "findings_2"
   ]
  },
  {
   "cell_type": "markdown",
   "id": "51296682-fdda-4af0-b849-2074afb79c87",
   "metadata": {},
   "source": [
    "# What are the most used words"
   ]
  },
  {
   "cell_type": "code",
   "execution_count": 50,
   "id": "3cab0188-ee13-4e80-a0f7-5eda28df3d18",
   "metadata": {},
   "outputs": [
    {
     "data": {
      "text/plain": [
       "86798"
      ]
     },
     "execution_count": 50,
     "metadata": {},
     "output_type": "execute_result"
    }
   ],
   "source": [
    "pattern_3 = re.compile(\"[a-zA-Z]+\")\n",
    "findings_3 = re.findall(pattern_3, book.lower())\n",
    "len(findings_3)"
   ]
  },
  {
   "cell_type": "code",
   "execution_count": 51,
   "id": "4835ebab-acf8-432f-9341-964a3729e33e",
   "metadata": {},
   "outputs": [],
   "source": [
    "fill_dict = {}\n",
    "\n",
    "for words in findings_3:\n",
    "    if words in fill_dict.keys():\n",
    "        fill_dict[words] = fill_dict[words] + 1\n",
    "    else:\n",
    "        fill_dict[words] = 1        "
   ]
  },
  {
   "cell_type": "code",
   "execution_count": 52,
   "id": "4c34c8c3-b02c-4d13-b41a-941f3ea57d3a",
   "metadata": {},
   "outputs": [
    {
     "data": {
      "text/plain": [
       "[(5346, 'the'), (2795, 'and'), (2729, 'i'), (2400, 'to'), (2060, 'of')]"
      ]
     },
     "execution_count": 52,
     "metadata": {},
     "output_type": "execute_result"
    }
   ],
   "source": [
    "dict_list = [(value, key) for (key, value) in fill_dict.items()]\n",
    "d_list = sorted(dict_list, reverse=True)\n",
    "d_list[:5]"
   ]
  },
  {
   "cell_type": "markdown",
   "id": "df9d4d8d-c6c8-475b-a61b-a236540997e5",
   "metadata": {},
   "source": [
    "# What are the most used words (non-articles)"
   ]
  },
  {
   "cell_type": "code",
   "execution_count": 31,
   "id": "f82d642b-3290-444b-be43-1dd9f36b2eec",
   "metadata": {},
   "outputs": [
    {
     "name": "stdout",
     "output_type": "stream",
     "text": [
      "Collecting nltk\n",
      "  Downloading nltk-3.8.1-py3-none-any.whl (1.5 MB)\n",
      "     ---------------------------------------- 0.0/1.5 MB ? eta -:--:--\n",
      "     ---------------------------------------- 0.0/1.5 MB ? eta -:--:--\n",
      "     ---------------------------------------- 0.0/1.5 MB ? eta -:--:--\n",
      "      --------------------------------------- 0.0/1.5 MB 217.9 kB/s eta 0:00:07\n",
      "     - -------------------------------------- 0.1/1.5 MB 328.2 kB/s eta 0:00:05\n",
      "     -- ------------------------------------- 0.1/1.5 MB 504.4 kB/s eta 0:00:03\n",
      "     ---- ----------------------------------- 0.2/1.5 MB 700.2 kB/s eta 0:00:02\n",
      "     ------ --------------------------------- 0.3/1.5 MB 874.6 kB/s eta 0:00:02\n",
      "     ----------- ---------------------------- 0.4/1.5 MB 1.3 MB/s eta 0:00:01\n",
      "     ---------------- ----------------------- 0.6/1.5 MB 1.7 MB/s eta 0:00:01\n",
      "     ------------------------- -------------- 1.0/1.5 MB 2.4 MB/s eta 0:00:01\n",
      "     --------------------------- ------------ 1.1/1.5 MB 2.6 MB/s eta 0:00:01\n",
      "     --------------------------- ------------ 1.1/1.5 MB 2.6 MB/s eta 0:00:01\n",
      "     ---------------------------------------- 1.5/1.5 MB 2.9 MB/s eta 0:00:00\n",
      "Collecting click (from nltk)\n",
      "  Obtaining dependency information for click from https://files.pythonhosted.org/packages/00/2e/d53fa4befbf2cfa713304affc7ca780ce4fc1fd8710527771b58311a3229/click-8.1.7-py3-none-any.whl.metadata\n",
      "  Using cached click-8.1.7-py3-none-any.whl.metadata (3.0 kB)\n",
      "Collecting joblib (from nltk)\n",
      "  Obtaining dependency information for joblib from https://files.pythonhosted.org/packages/10/40/d551139c85db202f1f384ba8bcf96aca2f329440a844f924c8a0040b6d02/joblib-1.3.2-py3-none-any.whl.metadata\n",
      "  Downloading joblib-1.3.2-py3-none-any.whl.metadata (5.4 kB)\n",
      "Collecting regex>=2021.8.3 (from nltk)\n",
      "  Obtaining dependency information for regex>=2021.8.3 from https://files.pythonhosted.org/packages/b8/ad/3398312096118c4e62a5827664e52a04d5068e84d04142dd4a0da8a567ae/regex-2023.10.3-cp311-cp311-win_amd64.whl.metadata\n",
      "  Downloading regex-2023.10.3-cp311-cp311-win_amd64.whl.metadata (41 kB)\n",
      "     ---------------------------------------- 0.0/42.0 kB ? eta -:--:--\n",
      "     ---------------------------------------- 42.0/42.0 kB 2.0 MB/s eta 0:00:00\n",
      "Collecting tqdm (from nltk)\n",
      "  Obtaining dependency information for tqdm from https://files.pythonhosted.org/packages/00/e5/f12a80907d0884e6dff9c16d0c0114d81b8cd07dc3ae54c5e962cc83037e/tqdm-4.66.1-py3-none-any.whl.metadata\n",
      "  Downloading tqdm-4.66.1-py3-none-any.whl.metadata (57 kB)\n",
      "     ---------------------------------------- 0.0/57.6 kB ? eta -:--:--\n",
      "     ---------------------------------------- 57.6/57.6 kB ? eta 0:00:00\n",
      "Requirement already satisfied: colorama in c:\\users\\abhin\\nlp_python\\venv\\lib\\site-packages (from click->nltk) (0.4.6)\n",
      "Downloading regex-2023.10.3-cp311-cp311-win_amd64.whl (269 kB)\n",
      "   ---------------------------------------- 0.0/269.6 kB ? eta -:--:--\n",
      "   --------------------------------------- 269.6/269.6 kB 17.3 MB/s eta 0:00:00\n",
      "Using cached click-8.1.7-py3-none-any.whl (97 kB)\n",
      "Downloading joblib-1.3.2-py3-none-any.whl (302 kB)\n",
      "   ---------------------------------------- 0.0/302.2 kB ? eta -:--:--\n",
      "   ---------------------------------------- 302.2/302.2 kB 9.4 MB/s eta 0:00:00\n",
      "Downloading tqdm-4.66.1-py3-none-any.whl (78 kB)\n",
      "   ---------------------------------------- 0.0/78.3 kB ? eta -:--:--\n",
      "   ---------------------------------------- 78.3/78.3 kB ? eta 0:00:00\n",
      "Installing collected packages: tqdm, regex, joblib, click, nltk\n",
      "Successfully installed click-8.1.7 joblib-1.3.2 nltk-3.8.1 regex-2023.10.3 tqdm-4.66.1\n"
     ]
    },
    {
     "name": "stderr",
     "output_type": "stream",
     "text": [
      "\n",
      "[notice] A new release of pip is available: 23.2.1 -> 23.3.1\n",
      "[notice] To update, run: python.exe -m pip install --upgrade pip\n"
     ]
    }
   ],
   "source": [
    "!pip3.11 install nltk"
   ]
  },
  {
   "cell_type": "code",
   "execution_count": 34,
   "id": "2bfbb43f-b309-4caa-bb91-b0d85615008e",
   "metadata": {},
   "outputs": [
    {
     "name": "stderr",
     "output_type": "stream",
     "text": [
      "[nltk_data] Downloading package stopwords to\n",
      "[nltk_data]     C:\\Users\\abhin\\AppData\\Roaming\\nltk_data...\n",
      "[nltk_data]   Unzipping corpora\\stopwords.zip.\n"
     ]
    },
    {
     "data": {
      "text/plain": [
       "True"
      ]
     },
     "execution_count": 34,
     "metadata": {},
     "output_type": "execute_result"
    }
   ],
   "source": [
    "import nltk\n",
    "nltk.download('stopwords')"
   ]
  },
  {
   "cell_type": "code",
   "execution_count": 53,
   "id": "2d82d235-3927-4dbb-a7dc-6fb39e5c519d",
   "metadata": {},
   "outputs": [],
   "source": [
    "import nltk\n",
    "\n",
    "from nltk.corpus import stopwords\n",
    "english_stopwords = stopwords.words(\"english\")"
   ]
  },
  {
   "cell_type": "code",
   "execution_count": 54,
   "id": "766c7517-e6d5-4f54-9dd9-973078c3b086",
   "metadata": {},
   "outputs": [
    {
     "data": {
      "text/plain": [
       "['i',\n",
       " 'me',\n",
       " 'my',\n",
       " 'myself',\n",
       " 'we',\n",
       " 'our',\n",
       " 'ours',\n",
       " 'ourselves',\n",
       " 'you',\n",
       " \"you're\",\n",
       " \"you've\",\n",
       " \"you'll\",\n",
       " \"you'd\",\n",
       " 'your',\n",
       " 'yours',\n",
       " 'yourself',\n",
       " 'yourselves',\n",
       " 'he',\n",
       " 'him',\n",
       " 'his',\n",
       " 'himself',\n",
       " 'she',\n",
       " \"she's\",\n",
       " 'her',\n",
       " 'hers',\n",
       " 'herself',\n",
       " 'it',\n",
       " \"it's\",\n",
       " 'its',\n",
       " 'itself',\n",
       " 'they',\n",
       " 'them',\n",
       " 'their',\n",
       " 'theirs',\n",
       " 'themselves',\n",
       " 'what',\n",
       " 'which',\n",
       " 'who',\n",
       " 'whom',\n",
       " 'this',\n",
       " 'that',\n",
       " \"that'll\",\n",
       " 'these',\n",
       " 'those',\n",
       " 'am',\n",
       " 'is',\n",
       " 'are',\n",
       " 'was',\n",
       " 'were',\n",
       " 'be',\n",
       " 'been',\n",
       " 'being',\n",
       " 'have',\n",
       " 'has',\n",
       " 'had',\n",
       " 'having',\n",
       " 'do',\n",
       " 'does',\n",
       " 'did',\n",
       " 'doing',\n",
       " 'a',\n",
       " 'an',\n",
       " 'the',\n",
       " 'and',\n",
       " 'but',\n",
       " 'if',\n",
       " 'or',\n",
       " 'because',\n",
       " 'as',\n",
       " 'until',\n",
       " 'while',\n",
       " 'of',\n",
       " 'at',\n",
       " 'by',\n",
       " 'for',\n",
       " 'with',\n",
       " 'about',\n",
       " 'against',\n",
       " 'between',\n",
       " 'into',\n",
       " 'through',\n",
       " 'during',\n",
       " 'before',\n",
       " 'after',\n",
       " 'above',\n",
       " 'below',\n",
       " 'to',\n",
       " 'from',\n",
       " 'up',\n",
       " 'down',\n",
       " 'in',\n",
       " 'out',\n",
       " 'on',\n",
       " 'off',\n",
       " 'over',\n",
       " 'under',\n",
       " 'again',\n",
       " 'further',\n",
       " 'then',\n",
       " 'once',\n",
       " 'here',\n",
       " 'there',\n",
       " 'when',\n",
       " 'where',\n",
       " 'why',\n",
       " 'how',\n",
       " 'all',\n",
       " 'any',\n",
       " 'both',\n",
       " 'each',\n",
       " 'few',\n",
       " 'more',\n",
       " 'most',\n",
       " 'other',\n",
       " 'some',\n",
       " 'such',\n",
       " 'no',\n",
       " 'nor',\n",
       " 'not',\n",
       " 'only',\n",
       " 'own',\n",
       " 'same',\n",
       " 'so',\n",
       " 'than',\n",
       " 'too',\n",
       " 'very',\n",
       " 's',\n",
       " 't',\n",
       " 'can',\n",
       " 'will',\n",
       " 'just',\n",
       " 'don',\n",
       " \"don't\",\n",
       " 'should',\n",
       " \"should've\",\n",
       " 'now',\n",
       " 'd',\n",
       " 'll',\n",
       " 'm',\n",
       " 'o',\n",
       " 're',\n",
       " 've',\n",
       " 'y',\n",
       " 'ain',\n",
       " 'aren',\n",
       " \"aren't\",\n",
       " 'couldn',\n",
       " \"couldn't\",\n",
       " 'didn',\n",
       " \"didn't\",\n",
       " 'doesn',\n",
       " \"doesn't\",\n",
       " 'hadn',\n",
       " \"hadn't\",\n",
       " 'hasn',\n",
       " \"hasn't\",\n",
       " 'haven',\n",
       " \"haven't\",\n",
       " 'isn',\n",
       " \"isn't\",\n",
       " 'ma',\n",
       " 'mightn',\n",
       " \"mightn't\",\n",
       " 'mustn',\n",
       " \"mustn't\",\n",
       " 'needn',\n",
       " \"needn't\",\n",
       " 'shan',\n",
       " \"shan't\",\n",
       " 'shouldn',\n",
       " \"shouldn't\",\n",
       " 'wasn',\n",
       " \"wasn't\",\n",
       " 'weren',\n",
       " \"weren't\",\n",
       " 'won',\n",
       " \"won't\",\n",
       " 'wouldn',\n",
       " \"wouldn't\"]"
      ]
     },
     "execution_count": 54,
     "metadata": {},
     "output_type": "execute_result"
    }
   ],
   "source": [
    "english_stopwords"
   ]
  },
  {
   "cell_type": "code",
   "execution_count": 55,
   "id": "12aa626f-2aaa-401e-8e2c-cb3d43fdfe71",
   "metadata": {},
   "outputs": [],
   "source": [
    "filtered_words = []\n",
    "\n",
    "for count, words in d_list:\n",
    "    if words not in english_stopwords:\n",
    "        filtered_words.append((words, count))"
   ]
  },
  {
   "cell_type": "code",
   "execution_count": 56,
   "id": "16b2e75f-c8b6-4926-8d97-22d93244252f",
   "metadata": {},
   "outputs": [
    {
     "data": {
      "text/plain": [
       "[('would', 575), ('us', 519), ('said', 292), ('roberto', 284), ('could', 252)]"
      ]
     },
     "execution_count": 56,
     "metadata": {},
     "output_type": "execute_result"
    }
   ],
   "source": [
    "filtered_words[:5]"
   ]
  },
  {
   "cell_type": "markdown",
   "id": "0d0ee242-7460-4602-a162-d233b1a13933",
   "metadata": {},
   "source": [
    "# Sentiment analysis: What is the most negative and most positive chapter?"
   ]
  },
  {
   "cell_type": "code",
   "execution_count": 57,
   "id": "559cddd0-721b-41e2-8b4e-9dd923fa9f13",
   "metadata": {},
   "outputs": [],
   "source": [
    "from nltk.sentiment import SentimentIntensityAnalyzer"
   ]
  },
  {
   "cell_type": "code",
   "execution_count": 59,
   "id": "10ed5642-ce8b-4963-9183-a1201493a6f4",
   "metadata": {},
   "outputs": [
    {
     "name": "stderr",
     "output_type": "stream",
     "text": [
      "[nltk_data] Downloading package vader_lexicon to\n",
      "[nltk_data]     C:\\Users\\abhin\\AppData\\Roaming\\nltk_data...\n"
     ]
    },
    {
     "data": {
      "text/plain": [
       "True"
      ]
     },
     "execution_count": 59,
     "metadata": {},
     "output_type": "execute_result"
    }
   ],
   "source": [
    "import nltk\n",
    "nltk.download('vader_lexicon')"
   ]
  },
  {
   "cell_type": "code",
   "execution_count": 60,
   "id": "7d4f8b54-a22d-4219-a349-746fa035a13e",
   "metadata": {},
   "outputs": [],
   "source": [
    "analyzer = SentimentIntensityAnalyzer()"
   ]
  },
  {
   "cell_type": "markdown",
   "id": "7d69abd1-2dce-4145-a19f-4a7baba3f9a6",
   "metadata": {},
   "source": [
    "### An example"
   ]
  },
  {
   "cell_type": "code",
   "execution_count": 61,
   "id": "8f63d9b9-a9ad-4fb2-a204-73d08068876f",
   "metadata": {},
   "outputs": [
    {
     "data": {
      "text/plain": [
       "{'neg': 0.0, 'neu': 0.464, 'pos': 0.536, 'compound': 0.8442}"
      ]
     },
     "execution_count": 61,
     "metadata": {},
     "output_type": "execute_result"
    }
   ],
   "source": [
    "analyzer.polarity_scores(\"Hey, look how beautiful the trees are, I love them.\")"
   ]
  },
  {
   "cell_type": "markdown",
   "id": "a0a35b95-ce4a-4998-8b8d-17ca1838eb21",
   "metadata": {},
   "source": [
    "### For the extracted book"
   ]
  },
  {
   "cell_type": "code",
   "execution_count": 62,
   "id": "2f3f9de6-5310-4896-9a50-2bac89fdc2fb",
   "metadata": {},
   "outputs": [
    {
     "data": {
      "text/plain": [
       "{'neg': 0.116, 'neu': 0.76, 'pos': 0.125, 'compound': 1.0}"
      ]
     },
     "execution_count": 62,
     "metadata": {},
     "output_type": "execute_result"
    }
   ],
   "source": [
    "analyzer.polarity_scores(book)"
   ]
  },
  {
   "cell_type": "markdown",
   "id": "9413149a-e9d1-4cb5-b363-ff66fa9ee45c",
   "metadata": {},
   "source": [
    "# Chapters sentiment analysis"
   ]
  },
  {
   "cell_type": "code",
   "execution_count": 67,
   "id": "fa4ef0c1-3c59-4379-9d47-3293622d8193",
   "metadata": {},
   "outputs": [
    {
     "data": {
      "text/plain": [
       "11"
      ]
     },
     "execution_count": 67,
     "metadata": {},
     "output_type": "execute_result"
    }
   ],
   "source": [
    "pattern_4 = re.compile(\"Chapter [0-9]+\")\n",
    "findings_4  = re.split(pattern_4, book)\n",
    "len(findings_4)"
   ]
  },
  {
   "cell_type": "code",
   "execution_count": 68,
   "id": "44293fa0-b581-4386-b6b3-3adf3f2634ca",
   "metadata": {},
   "outputs": [],
   "source": [
    "findings_4 = findings_4[1:]"
   ]
  },
  {
   "cell_type": "code",
   "execution_count": 69,
   "id": "cc763034-fe9a-4779-887f-92a24c985636",
   "metadata": {},
   "outputs": [
    {
     "name": "stdout",
     "output_type": "stream",
     "text": [
      "{'neg': 0.061, 'neu': 0.779, 'pos': 0.16, 'compound': 1.0}\n",
      "{'neg': 0.12, 'neu': 0.726, 'pos': 0.154, 'compound': 0.9991}\n",
      "{'neg': 0.145, 'neu': 0.751, 'pos': 0.105, 'compound': -0.9999}\n",
      "{'neg': 0.141, 'neu': 0.721, 'pos': 0.138, 'compound': -0.9963}\n",
      "{'neg': 0.118, 'neu': 0.742, 'pos': 0.141, 'compound': 0.9997}\n",
      "{'neg': 0.124, 'neu': 0.761, 'pos': 0.115, 'compound': -0.9979}\n",
      "{'neg': 0.136, 'neu': 0.761, 'pos': 0.103, 'compound': -0.9999}\n",
      "{'neg': 0.12, 'neu': 0.786, 'pos': 0.094, 'compound': -0.9998}\n",
      "{'neg': 0.097, 'neu': 0.824, 'pos': 0.079, 'compound': -0.9996}\n",
      "{'neg': 0.086, 'neu': 0.733, 'pos': 0.181, 'compound': 1.0}\n"
     ]
    }
   ],
   "source": [
    "for chapter in findings_4:\n",
    "    scores = analyzer.polarity_scores(chapter)\n",
    "    print(scores)"
   ]
  },
  {
   "cell_type": "code",
   "execution_count": null,
   "id": "0ffe13cd-442f-4256-b49a-da4675a14d87",
   "metadata": {},
   "outputs": [],
   "source": []
  }
 ],
 "metadata": {
  "kernelspec": {
   "display_name": "Python 3 (ipykernel)",
   "language": "python",
   "name": "python3"
  },
  "language_info": {
   "codemirror_mode": {
    "name": "ipython",
    "version": 3
   },
   "file_extension": ".py",
   "mimetype": "text/x-python",
   "name": "python",
   "nbconvert_exporter": "python",
   "pygments_lexer": "ipython3",
   "version": "3.11.6"
  }
 },
 "nbformat": 4,
 "nbformat_minor": 5
}
